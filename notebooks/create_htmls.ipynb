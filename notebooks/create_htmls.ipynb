{
 "cells": [
  {
   "cell_type": "markdown",
   "metadata": {},
   "source": [
    "# Set-up"
   ]
  },
  {
   "cell_type": "code",
   "execution_count": 33,
   "metadata": {},
   "outputs": [],
   "source": [
    "import json\n",
    "import pandas as pd\n",
    "from jinja2 import Environment, FileSystemLoader\n",
    "from jinja2.exceptions import UndefinedError\n",
    "from pathlib import Path\n",
    "import shutil\n",
    "from datetime import datetime, date"
   ]
  },
  {
   "cell_type": "code",
   "execution_count": 34,
   "metadata": {},
   "outputs": [],
   "source": [
    "TEMPLATE_DIR_PATH = Path(\"../templates\")\n",
    "HOSTING_PATH = Path('../')\n",
    "CONTENT_PATH = Path('../content')"
   ]
  },
  {
   "cell_type": "markdown",
   "metadata": {},
   "source": [
    "Function to create proper HTML file names by replacing spaces with underscores"
   ]
  },
  {
   "cell_type": "code",
   "execution_count": 35,
   "metadata": {},
   "outputs": [],
   "source": [
    "def page_link(a):\n",
    "    \"\"\"Return the HTML file name after replacing blank spaces(\" \") with underscores(\"-\")\"\"\"\n",
    "    return a.replace(\" \", \"_\") if \" \" in a else a"
   ]
  },
  {
   "cell_type": "markdown",
   "metadata": {},
   "source": [
    "Creating an instance of the Environment class that looks for templates. Page_link is set to the global variable so that it can be accessed by all templates"
   ]
  },
  {
   "cell_type": "code",
   "execution_count": 36,
   "metadata": {},
   "outputs": [],
   "source": [
    "environment = Environment(\n",
    "    loader=FileSystemLoader(TEMPLATE_DIR_PATH),\n",
    "    extensions=[\"jinja2.ext.loopcontrols\", \"jinja2.ext.do\"],\n",
    ")\n",
    "environment.globals[\"page_link\"] = page_link"
   ]
  },
  {
   "cell_type": "code",
   "execution_count": 37,
   "metadata": {},
   "outputs": [],
   "source": [
    "def create_page(template, html, **kwargs):\n",
    "    \"\"\"\n",
    "    Create an HTML page using a Jinja2 template and save it to a specified path.\n",
    "\n",
    "    Parameters:\n",
    "    ----------\n",
    "    template : str\n",
    "        The filename of the Jinja2 template to be used.\n",
    "    html : str\n",
    "        The filename of the HTML file to be generated.\n",
    "    **kwargs : dict\n",
    "        Additional keyword arguments to be passed to the Jinja2 template for rendering.\n",
    "\n",
    "    Returns:\n",
    "    -------\n",
    "    None\n",
    "\n",
    "    \"\"\"\n",
    "    page_template = environment.get_template(template)\n",
    "    template_level = html.count(\"/\")\n",
    "    page_html_path = HOSTING_PATH / html\n",
    "    page_html_path.parent.mkdir(parents=True, exist_ok=True)\n",
    "    page_content = page_template.render(TEMPLATE_LEVEL=template_level, **kwargs)\n",
    "    with open(page_html_path, mode=\"w\", encoding=\"utf-8\") as page:\n",
    "        page.write(page_content)"
   ]
  },
  {
   "cell_type": "code",
   "execution_count": 38,
   "metadata": {},
   "outputs": [
    {
     "data": {
      "text/plain": [
       "{'about': {'address': '567 Wilson Rd, East Lansing, MI 48824, United States',\n",
       "  'phone': '',\n",
       "  'email': 'wkerzend@msu.edu',\n",
       "  'useful_links': {'TARDIS': 'https://tardis-sn.github.io/',\n",
       "   'DTI': 'https://deepthought-initiative.github.io'},\n",
       "  'social_media_links': {'github_handle': 'wkerzendorf',\n",
       "   'twitter_handle': 'wkerzendorf',\n",
       "   'linkedin_handle': 'wolfgang-kerzendorf-598a0466',\n",
       "   'email': 'wkerzend@msu.edu',\n",
       "   'orcid': '0000-0002-0479-7235'},\n",
       "  'about_para': \"I am an interdisciplinary researcher trying to bridge the fields of astrophysics and machine learning. I work as a Assistant Professor at the Department of Physics & Astronomy and Computational Mathematics, Statistics, & Engineering (Michigan State University) where I started in 2019. My group's website can be found at https://kerzendorf-lab.github.io/. I am the lead-author and PI of the open-source radiative transfer code TARDIS.I started my journey in beautiful Munich in southern Germany and finished my high-school there. My first alma-mater is the Universität Heidelberg where I studied till after my Vordiplom in physics. Fate and copious help by one of my first mentors - the late Rainer Wehrse - brought me to Mount Stromlo Observatory working with Brian Schmidt as a summer research scholar and later PhD. I finished my thesis, titled 'Type Ia Supernovae: Progenitors and explosions', in 2011. I then moved to the University of Toronto with Marten van Kerkwijk as a I was a Postdoctoral Research Fellow. From late 2014 to 2018 I was an ESO Fellow at the European Southern Observatory. I stayed at NYU (working in Maryam Modjaz's group) and the Flatiron institute until mid-2019.\"},\n",
       " 'awards': [{'year': 2007,\n",
       "   'award': \"ANU Vice Chancellor's Special Award\",\n",
       "   'institution': 'Mt Stromlo Observatory'},\n",
       "  {'year': 2011,\n",
       "   'award': \"ANU Vice Chancellor's Special Award\",\n",
       "   'institution': 'Mt Stromlo Observatory'},\n",
       "  {'year': 2014,\n",
       "   'award': 'ESO Fellowship',\n",
       "   'institution': 'European Southern Observatory, Garching, Germany'},\n",
       "  {'year': 2019,\n",
       "   'award': 'Scialog Fellow, Time Domain Astronomy',\n",
       "   'institution': 'Research Corporation for Science Advancement, US'},\n",
       "  {'year': 2020,\n",
       "   'award': 'TARDIS becomes NumFOCUS sponsored project',\n",
       "   'institution': 'NumFOCUS, US'}],\n",
       " 'general': {'website_title': 'Wolfgang E. Kerzendorf',\n",
       "  'navigation_bar': ['Research', 'CV', 'Publications']},\n",
       " 'collaborations': [{'collaboration': 'TARDIS collaboration',\n",
       "   'description': 'PI Kerzendorf, Leading the group and liasing between the disciplines.',\n",
       "   'start_year': 2011},\n",
       "  {'collaboration': 'Astropy collaboration',\n",
       "   'description': 'Contributions to spectral analysis package and nddata.',\n",
       "   'start_year': 2011},\n",
       "  {'collaboration': 'West African International Summerschool',\n",
       "   'description': 'PI Strubbe, Instructor & Mentor.',\n",
       "   'start_year': 2013},\n",
       "  {'collaboration': 'UCLA Galactic Center Group',\n",
       "   'description': 'PI Ghez, Expert on Stellar Abundance measurements',\n",
       "   'start_year': 2014},\n",
       "  {'collaboration': 'ePessto collaboration',\n",
       "   'description': 'PI Smartt, Faint & fast transient group.',\n",
       "   'start_year': 2017}],\n",
       " 'education': [{'institution': 'Ruprecht Karls Universität Heidelberg',\n",
       "   'city': 'Heidelberg',\n",
       "   'country': 'DE',\n",
       "   'degree': 'Vordiplom',\n",
       "   'start_year': 2002,\n",
       "   'end_year': 2006},\n",
       "  {'institution': 'ANU Research School of Astronomy and Astrophysics',\n",
       "   'city': 'Weston Creek',\n",
       "   'country': 'AU',\n",
       "   'degree': 'PhD',\n",
       "   'start_year': 2007,\n",
       "   'end_year': 2011}],\n",
       " 'experiences': [{'institution': 'University of Toronto',\n",
       "   'city': 'Toronto',\n",
       "   'country': 'CA',\n",
       "   'position': 'Postdoctoral Fellow',\n",
       "   'start_year': 2011,\n",
       "   'end_year': 2014},\n",
       "  {'institution': 'European Southern Observatory',\n",
       "   'city': 'Garching',\n",
       "   'country': 'DE',\n",
       "   'position': 'ESO Fellow',\n",
       "   'start_year': 2014,\n",
       "   'end_year': 2018},\n",
       "  {'institution': 'New York University',\n",
       "   'city': 'New York',\n",
       "   'country': 'US',\n",
       "   'position': 'Senior Research Associate',\n",
       "   'start_year': 2019,\n",
       "   'end_year': 2019},\n",
       "  {'institution': 'Michigan State University',\n",
       "   'city': 'East Lansing',\n",
       "   'country': 'US',\n",
       "   'position': 'Assistant Professor',\n",
       "   'start_year': 2019}]}"
      ]
     },
     "metadata": {},
     "output_type": "display_data"
    }
   ],
   "source": [
    "personal_data = {}\n",
    "for info_json_path in CONTENT_PATH.iterdir():\n",
    "    with open(info_json_path, \"r\") as info_json_file:\n",
    "        personal_data[info_json_path.stem] = json.load(info_json_file)\n"
   ]
  },
  {
   "cell_type": "code",
   "execution_count": 39,
   "metadata": {},
   "outputs": [],
   "source": [
    "create_page(\n",
    "    \"base.html.j2\",\n",
    "    \"index.html\",\n",
    "    personal_data=personal_data\n",
    ")"
   ]
  },
  {
   "cell_type": "code",
   "execution_count": null,
   "metadata": {},
   "outputs": [],
   "source": []
  }
 ],
 "metadata": {
  "kernelspec": {
   "display_name": "Python 3",
   "language": "python",
   "name": "python3"
  },
  "language_info": {
   "codemirror_mode": {
    "name": "ipython",
    "version": 3
   },
   "file_extension": ".py",
   "mimetype": "text/x-python",
   "name": "python",
   "nbconvert_exporter": "python",
   "pygments_lexer": "ipython3",
   "version": "3.10.12"
  }
 },
 "nbformat": 4,
 "nbformat_minor": 2
}
